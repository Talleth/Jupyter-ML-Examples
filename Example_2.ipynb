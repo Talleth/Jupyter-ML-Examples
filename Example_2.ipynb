{
  "cells": [
    {
      "cell_type": "markdown",
      "metadata": {
        "id": "pYaVGfd4qO0B"
      },
      "source": [
        "## Import modules"
      ]
    },
    {
      "cell_type": "code",
      "execution_count": 1,
      "metadata": {
        "id": "KWlSMPV4oLDw"
      },
      "outputs": [],
      "source": [
        "import pandas as pd # for data handling\n",
        "from sklearn.model_selection import cross_val_score # for cross-validation\n",
        "from sklearn.metrics import accuracy_score, classification_report, confusion_matrix # evaluation metrics\n",
        "import matplotlib.pyplot as plt # for plotting\n",
        "\n",
        "# scikit-learn classifiers evaluated (change as desired)\n",
        "from sklearn.naive_bayes import GaussianNB\n",
        "from sklearn.tree import DecisionTreeClassifier, plot_tree\n",
        "from sklearn.ensemble import RandomForestClassifier, ExtraTreesClassifier\n",
        "from sklearn.neighbors import KNeighborsClassifier\n",
        "from sklearn.linear_model import LogisticRegression\n",
        "from sklearn.svm import SVC\n",
        "from sklearn.neural_network import MLPClassifier"
      ]
    },
    {
      "cell_type": "markdown",
      "metadata": {
        "id": "qFXeyqMfqSTQ"
      },
      "source": [
        "## Get data"
      ]
    },
    {
      "cell_type": "markdown",
      "metadata": {
        "id": "d7UZjWh77hmQ"
      },
      "source": [
        "### Extract *CSV* files from *zip* file\n"
      ]
    },
    {
      "cell_type": "code",
      "execution_count": 2,
      "metadata": {
        "colab": {
          "base_uri": "https://localhost:8080/"
        },
        "id": "qnSnuRaDqbWQ",
        "outputId": "432ed9b0-c425-4d81-c59a-6e63452b5b44"
      },
      "outputs": [
        {
          "name": "stdout",
          "output_type": "stream",
          "text": [
            "unzip:  cannot find or open /content/drive/MyDrive/Colab Notebooks/courses/sklearn_classifiers/homework/hw2.q2.data.zip, /content/drive/MyDrive/Colab Notebooks/courses/sklearn_classifiers/homework/hw2.q2.data.zip.zip or /content/drive/MyDrive/Colab Notebooks/courses/sklearn_classifiers/homework/hw2.q2.data.zip.ZIP.\n"
          ]
        }
      ],
      "source": [
        "! unzip '/content/drive/MyDrive/Colab Notebooks/courses/sklearn_classifiers/homework/hw2.q2.data.zip'"
      ]
    },
    {
      "cell_type": "markdown",
      "metadata": {
        "id": "z_Q4wVD18cpP"
      },
      "source": [
        "### Read data into *pandas* dataframes"
      ]
    },
    {
      "cell_type": "code",
      "execution_count": 3,
      "metadata": {
        "colab": {
          "base_uri": "https://localhost:8080/",
          "height": 213
        },
        "id": "3LNrsgt9qgYQ",
        "outputId": "a8f01bf5-51b7-4e89-dbaa-7b9237b8131c"
      },
      "outputs": [
        {
          "name": "stdout",
          "output_type": "stream",
          "text": [
            "train contains 8000 rows and 11 columns\n",
            "test contains 2000 rows and 11 columns\n",
            "new contains 30 rows and 11 columns\n",
            "First 3 rows in train:\n"
          ]
        },
        {
          "data": {
            "text/html": [
              "<div>\n",
              "<style scoped>\n",
              "    .dataframe tbody tr th:only-of-type {\n",
              "        vertical-align: middle;\n",
              "    }\n",
              "\n",
              "    .dataframe tbody tr th {\n",
              "        vertical-align: top;\n",
              "    }\n",
              "\n",
              "    .dataframe thead th {\n",
              "        text-align: right;\n",
              "    }\n",
              "</style>\n",
              "<table border=\"1\" class=\"dataframe\">\n",
              "  <thead>\n",
              "    <tr style=\"text-align: right;\">\n",
              "      <th></th>\n",
              "      <th>y</th>\n",
              "      <th>x1</th>\n",
              "      <th>x2</th>\n",
              "      <th>x3</th>\n",
              "      <th>x4</th>\n",
              "      <th>x5</th>\n",
              "      <th>x6</th>\n",
              "      <th>x7</th>\n",
              "      <th>x8</th>\n",
              "      <th>x9</th>\n",
              "      <th>x10</th>\n",
              "    </tr>\n",
              "  </thead>\n",
              "  <tbody>\n",
              "    <tr>\n",
              "      <th>0</th>\n",
              "      <td>3.0</td>\n",
              "      <td>-1.135</td>\n",
              "      <td>-3.003</td>\n",
              "      <td>-0.041</td>\n",
              "      <td>2.683</td>\n",
              "      <td>-1.122</td>\n",
              "      <td>0.936</td>\n",
              "      <td>-0.388</td>\n",
              "      <td>1.610</td>\n",
              "      <td>-1.385</td>\n",
              "      <td>-1.909</td>\n",
              "    </tr>\n",
              "    <tr>\n",
              "      <th>1</th>\n",
              "      <td>2.0</td>\n",
              "      <td>-1.243</td>\n",
              "      <td>-1.825</td>\n",
              "      <td>-1.360</td>\n",
              "      <td>0.020</td>\n",
              "      <td>1.610</td>\n",
              "      <td>0.581</td>\n",
              "      <td>3.659</td>\n",
              "      <td>0.693</td>\n",
              "      <td>-0.838</td>\n",
              "      <td>0.009</td>\n",
              "    </tr>\n",
              "    <tr>\n",
              "      <th>2</th>\n",
              "      <td>1.0</td>\n",
              "      <td>2.885</td>\n",
              "      <td>2.161</td>\n",
              "      <td>3.516</td>\n",
              "      <td>-0.230</td>\n",
              "      <td>-0.729</td>\n",
              "      <td>1.820</td>\n",
              "      <td>0.235</td>\n",
              "      <td>0.532</td>\n",
              "      <td>-2.330</td>\n",
              "      <td>1.174</td>\n",
              "    </tr>\n",
              "  </tbody>\n",
              "</table>\n",
              "</div>"
            ],
            "text/plain": [
              "     y     x1     x2     x3     x4     x5     x6     x7     x8     x9    x10\n",
              "0  3.0 -1.135 -3.003 -0.041  2.683 -1.122  0.936 -0.388  1.610 -1.385 -1.909\n",
              "1  2.0 -1.243 -1.825 -1.360  0.020  1.610  0.581  3.659  0.693 -0.838  0.009\n",
              "2  1.0  2.885  2.161  3.516 -0.230 -0.729  1.820  0.235  0.532 -2.330  1.174"
            ]
          },
          "execution_count": 3,
          "metadata": {},
          "output_type": "execute_result"
        }
      ],
      "source": [
        "# Read data from CSV files into pandas dataframes\n",
        "train = pd.read_csv('./final.q3.train.csv') # training data\n",
        "test = pd.read_csv('./final.q3.test.csv') # test data\n",
        "new = pd.read_csv('./final.q3.new.csv') # unlabeled data\n",
        "# Show number of rows and columns in each dataframe\n",
        "print('train contains %d rows and %d columns' %train.shape)\n",
        "print('test contains %d rows and %d columns' %test.shape)\n",
        "print('new contains %d rows and %d columns' %new.shape)\n",
        "print('First 3 rows in train:')\n",
        "train.head(3) # display first 3 training samples"
      ]
    },
    {
      "cell_type": "markdown",
      "metadata": {
        "id": "Cy4SdaiY9lFo"
      },
      "source": [
        "### Specify inputs and outputs\n",
        "\n",
        "\n",
        "\n",
        "\n",
        "\n"
      ]
    },
    {
      "cell_type": "code",
      "execution_count": 4,
      "metadata": {
        "colab": {
          "base_uri": "https://localhost:8080/"
        },
        "id": "GJ8ohEGf-Mi8",
        "outputId": "e54e02c9-4b84-4790-c1c9-ccdf0495ce5b"
      },
      "outputs": [
        {
          "name": "stdout",
          "output_type": "stream",
          "text": [
            "features: ['x1', 'x2', 'x3', 'x4', 'x5', 'x6', 'x7', 'x8', 'x9', 'x10']\n",
            "Shapes:\n",
            "X_train: (8000, 10), X_test: (2000, 10), X_new: (30, 10)\n",
            "y_train: (8000,), y_test: (2000,)\n"
          ]
        }
      ],
      "source": [
        "features = list(train)[1:] # all but the first column header are feature names\n",
        "print(\"features:\", features)\n",
        "X_train, X_test, X_new = train[features], test[features], new[features]\n",
        "y_train, y_test = train.y, test.y\n",
        "print('Shapes:')\n",
        "print(f'X_train: {X_train.shape}, X_test: {X_test.shape}, X_new: {X_new.shape}')\n",
        "print(f'y_train: {y_train.shape}, y_test: {y_test.shape}')"
      ]
    },
    {
      "cell_type": "markdown",
      "metadata": {
        "id": "DnxBpRlZ-5I9"
      },
      "source": [
        "## Evaluate models using *k*-fold cross-validation"
      ]
    },
    {
      "cell_type": "markdown",
      "metadata": {
        "id": "5txUT58tqyFa"
      },
      "source": [
        "### GaussianNB\n",
        "\n",
        "https://scikit-learn.org/stable/modules/generated/sklearn.naive_bayes.GaussianNB.html"
      ]
    },
    {
      "cell_type": "code",
      "execution_count": 5,
      "metadata": {
        "colab": {
          "base_uri": "https://localhost:8080/"
        },
        "id": "NrfDQpqMq8Jr",
        "outputId": "cf8c2447-7683-4055-8e0a-85bc39d298a3"
      },
      "outputs": [
        {
          "name": "stdout",
          "output_type": "stream",
          "text": [
            "Mean cross-validation accuracy = 0.8717\n",
            "CPU times: user 17.7 ms, sys: 2.19 ms, total: 19.9 ms\n",
            "Wall time: 20.6 ms\n"
          ]
        }
      ],
      "source": [
        "%%time\n",
        "model = GaussianNB() # change hyperparameters as desired\n",
        "score = cross_val_score(model, X_train, y_train).mean() # mean cross-validation accuracy\n",
        "print(f'Mean cross-validation accuracy = {score:0.4f}')"
      ]
    },
    {
      "cell_type": "markdown",
      "metadata": {
        "id": "L61SWfGztPUz"
      },
      "source": [
        "### DecisionTreeClassifier\n",
        "\n",
        "https://scikit-learn.org/stable/modules/generated/sklearn.tree.DecisionTreeClassifier.html"
      ]
    },
    {
      "cell_type": "code",
      "execution_count": 6,
      "metadata": {
        "colab": {
          "base_uri": "https://localhost:8080/"
        },
        "id": "V6IlKW1ZKFrq",
        "outputId": "c17cf87b-df9c-4025-ab35-cbb14fcd80b6"
      },
      "outputs": [
        {
          "name": "stdout",
          "output_type": "stream",
          "text": [
            "Mean cross-validation accuracy = 0.8189\n",
            "CPU times: user 369 ms, sys: 2.64 ms, total: 372 ms\n",
            "Wall time: 383 ms\n"
          ]
        }
      ],
      "source": [
        "%%time\n",
        "model = DecisionTreeClassifier() # change hyperparameters as desired\n",
        "score = cross_val_score(model, X_train, y_train).mean() # mean cross-validation accuracy\n",
        "print(f'Mean cross-validation accuracy = {score:0.4f}')"
      ]
    },
    {
      "cell_type": "markdown",
      "metadata": {
        "id": "dw2J3q89Kq8u"
      },
      "source": [
        "### RandomForestClassifier\n",
        "\n",
        "https://scikit-learn.org/stable/modules/generated/sklearn.ensemble.RandomForestClassifier.html"
      ]
    },
    {
      "cell_type": "code",
      "execution_count": 7,
      "metadata": {
        "colab": {
          "base_uri": "https://localhost:8080/"
        },
        "id": "Bg1tRS0KK4zl",
        "outputId": "8f1701e1-7169-444a-9599-2552901bda83"
      },
      "outputs": [
        {
          "name": "stdout",
          "output_type": "stream",
          "text": [
            "Mean cross-validation accuracy = 0.9175\n",
            "CPU times: user 6.19 s, sys: 16.4 ms, total: 6.21 s\n",
            "Wall time: 6.41 s\n"
          ]
        }
      ],
      "source": [
        "%%time\n",
        "model = RandomForestClassifier() # change hyperparameters as desired\n",
        "score = cross_val_score(model, X_train, y_train).mean() # mean cross-validation accuracy\n",
        "print(f'Mean cross-validation accuracy = {score:0.4f}')"
      ]
    },
    {
      "cell_type": "markdown",
      "metadata": {
        "id": "d86dfu7ducAE"
      },
      "source": [
        "### ExtraTreesClassifier\n",
        "\n",
        "https://scikit-learn.org/stable/modules/generated/sklearn.ensemble.ExtraTreesClassifier.html"
      ]
    },
    {
      "cell_type": "code",
      "execution_count": 8,
      "metadata": {
        "colab": {
          "base_uri": "https://localhost:8080/"
        },
        "id": "emyzWlJyKUSx",
        "outputId": "0e8f0d5f-fb84-4eff-932b-68d47991e4a8"
      },
      "outputs": [
        {
          "name": "stdout",
          "output_type": "stream",
          "text": [
            "Mean cross-validation accuracy = 0.9239\n",
            "CPU times: user 1.86 s, sys: 15.8 ms, total: 1.87 s\n",
            "Wall time: 1.93 s\n"
          ]
        }
      ],
      "source": [
        "%%time\n",
        "model = ExtraTreesClassifier() # change hyperparameters as desired\n",
        "score = cross_val_score(model, X_train, y_train).mean() # mean cross-validation accuracy\n",
        "print(f'Mean cross-validation accuracy = {score:0.4f}')"
      ]
    },
    {
      "cell_type": "markdown",
      "metadata": {
        "id": "LRG62pOxwrQT"
      },
      "source": [
        "### KNeighborsClassifier\n",
        "\n",
        "https://scikit-learn.org/stable/modules/generated/sklearn.neighbors.KNeighborsClassifier.html"
      ]
    },
    {
      "cell_type": "code",
      "execution_count": 9,
      "metadata": {
        "colab": {
          "base_uri": "https://localhost:8080/"
        },
        "id": "bXltDGqnLHmH",
        "outputId": "910397e3-d43e-4bad-ae09-7f1758471684"
      },
      "outputs": [
        {
          "name": "stdout",
          "output_type": "stream",
          "text": [
            "Mean cross-validation accuracy = 0.9303\n",
            "CPU times: user 330 ms, sys: 2.18 ms, total: 332 ms\n",
            "Wall time: 343 ms\n"
          ]
        }
      ],
      "source": [
        "%%time\n",
        "model = KNeighborsClassifier() # change hyperparameters as desired\n",
        "score = cross_val_score(model, X_train, y_train).mean() # mean cross-validation accuracy\n",
        "print(f'Mean cross-validation accuracy = {score:0.4f}')"
      ]
    },
    {
      "cell_type": "markdown",
      "metadata": {
        "id": "UlOltPrLLrug"
      },
      "source": [
        "### LogisticRegression\n",
        "\n",
        "https://scikit-learn.org/stable/modules/generated/sklearn.linear_model.LogisticRegression.html"
      ]
    },
    {
      "cell_type": "code",
      "execution_count": 10,
      "metadata": {
        "colab": {
          "base_uri": "https://localhost:8080/"
        },
        "id": "bCHYnbyHL3SH",
        "outputId": "9108cfeb-2bd5-444d-c52e-d9adf2159dcc"
      },
      "outputs": [
        {
          "name": "stdout",
          "output_type": "stream",
          "text": [
            "Mean cross-validation accuracy = 0.8924\n",
            "CPU times: user 2.36 s, sys: 679 ms, total: 3.04 s\n",
            "Wall time: 275 ms\n"
          ]
        }
      ],
      "source": [
        "%%time\n",
        "model = LogisticRegression() # change hyperparameters as desired\n",
        "score = cross_val_score(model, X_train, y_train).mean() # mean cross-validation accuracy\n",
        "print(f'Mean cross-validation accuracy = {score:0.4f}')"
      ]
    },
    {
      "cell_type": "markdown",
      "metadata": {
        "id": "A-iTOgGMMPQN"
      },
      "source": [
        "### SVC\n",
        "\n",
        "https://scikit-learn.org/stable/modules/generated/sklearn.svm.SVC.html"
      ]
    },
    {
      "cell_type": "code",
      "execution_count": 11,
      "metadata": {
        "colab": {
          "base_uri": "https://localhost:8080/"
        },
        "id": "dABpGY4CMZEx",
        "outputId": "51c84253-e48b-42dd-8789-10d4f18afd62"
      },
      "outputs": [
        {
          "name": "stdout",
          "output_type": "stream",
          "text": [
            "Mean cross-validation accuracy = 0.9326\n",
            "CPU times: user 5.4 s, sys: 530 ms, total: 5.93 s\n",
            "Wall time: 4.07 s\n"
          ]
        }
      ],
      "source": [
        "%%time\n",
        "model = SVC() # change hyperparameters as desired\n",
        "score = cross_val_score(model, X_train, y_train).mean() # mean cross-validation accuracy\n",
        "print(f'Mean cross-validation accuracy = {score:0.4f}')"
      ]
    },
    {
      "cell_type": "markdown",
      "metadata": {
        "id": "HRyD_Sx_5UQa"
      },
      "source": [
        "### MLPClassifier\n",
        "https://scikit-learn.org/stable/modules/generated/sklearn.neural_network.MLPClassifier.html"
      ]
    },
    {
      "cell_type": "code",
      "execution_count": 12,
      "metadata": {
        "colab": {
          "base_uri": "https://localhost:8080/"
        },
        "id": "IdJ-K_USNDxe",
        "outputId": "89aceb6f-4f22-4381-b5d9-eeeaf9e02bb8"
      },
      "outputs": [
        {
          "name": "stdout",
          "output_type": "stream",
          "text": [
            "Mean cross-validation accuracy = 0.9249\n",
            "CPU times: user 1min 57s, sys: 35.9 s, total: 2min 32s\n",
            "Wall time: 14.2 s\n"
          ]
        }
      ],
      "source": [
        "%%time\n",
        "model = MLPClassifier(max_iter=1000) # change hyperparameters as desired\n",
        "score = cross_val_score(model, X_train, y_train, cv=2).mean() # mean cross-validation accuracy\n",
        "print(f'Mean cross-validation accuracy = {score:0.4f}')"
      ]
    },
    {
      "cell_type": "code",
      "execution_count": 13,
      "metadata": {
        "colab": {
          "base_uri": "https://localhost:8080/"
        },
        "id": "Ublws_M1YEgh",
        "outputId": "cea3bdce-006b-42ee-d064-bf6db05b90c7"
      },
      "outputs": [
        {
          "name": "stdout",
          "output_type": "stream",
          "text": [
            "activation: relu\n",
            "alpha: 0.0001\n",
            "batch_size: auto\n",
            "beta_1: 0.9\n",
            "beta_2: 0.999\n",
            "early_stopping: False\n",
            "epsilon: 1e-08\n",
            "hidden_layer_sizes: (1000, 100)\n",
            "learning_rate: constant\n",
            "learning_rate_init: 0.001\n",
            "max_fun: 15000\n",
            "max_iter: 1000\n",
            "momentum: 0.9\n",
            "n_iter_no_change: 10\n",
            "nesterovs_momentum: True\n",
            "power_t: 0.5\n",
            "random_state: None\n",
            "shuffle: True\n",
            "solver: adam\n",
            "tol: 0.0001\n",
            "validation_fraction: 0.1\n",
            "verbose: True\n",
            "warm_start: False\n",
            "Iteration 1, loss = 0.48453601\n",
            "Iteration 2, loss = 0.34276719\n",
            "Iteration 3, loss = 0.31927481\n",
            "Iteration 4, loss = 0.30366783\n",
            "Iteration 5, loss = 0.29626204\n",
            "Iteration 6, loss = 0.28809773\n",
            "Iteration 7, loss = 0.28574598\n",
            "Iteration 8, loss = 0.27604432\n",
            "Iteration 9, loss = 0.27221838\n",
            "Iteration 10, loss = 0.26967006\n",
            "Iteration 11, loss = 0.26549105\n",
            "Iteration 12, loss = 0.26241710\n",
            "Iteration 13, loss = 0.25695664\n",
            "Iteration 14, loss = 0.25372934\n",
            "Iteration 15, loss = 0.25082583\n",
            "Iteration 16, loss = 0.24344232\n",
            "Iteration 17, loss = 0.24522990\n",
            "Iteration 18, loss = 0.24123008\n",
            "Iteration 19, loss = 0.23630062\n",
            "Iteration 20, loss = 0.23445824\n",
            "Iteration 21, loss = 0.23403130\n",
            "Iteration 22, loss = 0.23229796\n",
            "Iteration 23, loss = 0.22800361\n",
            "Iteration 24, loss = 0.22079082\n",
            "Iteration 25, loss = 0.22064074\n",
            "Iteration 26, loss = 0.21461689\n",
            "Iteration 27, loss = 0.21567009\n",
            "Iteration 28, loss = 0.21141305\n",
            "Iteration 29, loss = 0.20765270\n",
            "Iteration 30, loss = 0.19907695\n",
            "Iteration 31, loss = 0.20268746\n",
            "Iteration 32, loss = 0.19733667\n",
            "Iteration 33, loss = 0.19331800\n",
            "Iteration 34, loss = 0.18817373\n",
            "Iteration 35, loss = 0.18464097\n",
            "Iteration 36, loss = 0.18583798\n",
            "Iteration 37, loss = 0.18620453\n",
            "Iteration 38, loss = 0.18129837\n",
            "Iteration 39, loss = 0.17409429\n",
            "Iteration 40, loss = 0.17460686\n",
            "Iteration 41, loss = 0.17416934\n",
            "Iteration 42, loss = 0.16609945\n",
            "Iteration 43, loss = 0.15942219\n",
            "Iteration 44, loss = 0.15777890\n",
            "Iteration 45, loss = 0.15924628\n",
            "Iteration 46, loss = 0.15768010\n",
            "Iteration 47, loss = 0.14579884\n",
            "Iteration 48, loss = 0.14279143\n",
            "Iteration 49, loss = 0.13930500\n",
            "Iteration 50, loss = 0.13842917\n",
            "Iteration 51, loss = 0.13241440\n",
            "Iteration 52, loss = 0.13252616\n",
            "Iteration 53, loss = 0.12782511\n",
            "Iteration 54, loss = 0.12626506\n",
            "Iteration 55, loss = 0.12169616\n",
            "Iteration 56, loss = 0.12890197\n",
            "Iteration 57, loss = 0.11627893\n",
            "Iteration 58, loss = 0.11038315\n",
            "Iteration 59, loss = 0.11153861\n",
            "Iteration 60, loss = 0.11398248\n",
            "Iteration 61, loss = 0.10905067\n",
            "Iteration 62, loss = 0.09622884\n",
            "Iteration 63, loss = 0.09518394\n",
            "Iteration 64, loss = 0.09479957\n",
            "Iteration 65, loss = 0.09766998\n",
            "Iteration 66, loss = 0.09279255\n",
            "Iteration 67, loss = 0.08783973\n",
            "Iteration 68, loss = 0.08042842\n",
            "Iteration 69, loss = 0.07810647\n",
            "Iteration 70, loss = 0.07528645\n",
            "Iteration 71, loss = 0.07629271\n",
            "Iteration 72, loss = 0.07276597\n",
            "Iteration 73, loss = 0.06883287\n",
            "Iteration 74, loss = 0.06931973\n",
            "Iteration 75, loss = 0.06954672\n",
            "Iteration 76, loss = 0.06774054\n",
            "Iteration 77, loss = 0.06243094\n",
            "Iteration 78, loss = 0.05771767\n",
            "Iteration 79, loss = 0.05298875\n",
            "Iteration 80, loss = 0.05521453\n",
            "Iteration 81, loss = 0.04999902\n",
            "Iteration 82, loss = 0.04980284\n",
            "Iteration 83, loss = 0.05911798\n",
            "Iteration 84, loss = 0.04861561\n",
            "Iteration 85, loss = 0.04911521\n",
            "Iteration 86, loss = 0.04594589\n",
            "Iteration 87, loss = 0.04468031\n",
            "Iteration 88, loss = 0.03871383\n",
            "Iteration 89, loss = 0.04777692\n",
            "Iteration 90, loss = 0.05170588\n",
            "Iteration 91, loss = 0.04633921\n",
            "Iteration 92, loss = 0.03826404\n",
            "Iteration 93, loss = 0.03469820\n",
            "Iteration 94, loss = 0.03212310\n",
            "Iteration 95, loss = 0.02812114\n",
            "Iteration 96, loss = 0.02700073\n",
            "Iteration 97, loss = 0.02468471\n",
            "Iteration 98, loss = 0.02513248\n",
            "Iteration 99, loss = 0.02432616\n",
            "Iteration 100, loss = 0.02512380\n",
            "Iteration 101, loss = 0.02463885\n",
            "Iteration 102, loss = 0.02370839\n",
            "Iteration 103, loss = 0.03193157\n",
            "Iteration 104, loss = 0.04307360\n",
            "Iteration 105, loss = 0.05256908\n",
            "Iteration 106, loss = 0.04020776\n",
            "Iteration 107, loss = 0.03492930\n",
            "Iteration 108, loss = 0.02710026\n",
            "Iteration 109, loss = 0.02038350\n",
            "Iteration 110, loss = 0.01643613\n",
            "Iteration 111, loss = 0.01554400\n",
            "Iteration 112, loss = 0.01506105\n",
            "Iteration 113, loss = 0.01584894\n",
            "Iteration 114, loss = 0.01628521\n",
            "Iteration 115, loss = 0.01833328\n",
            "Iteration 116, loss = 0.01559724\n",
            "Iteration 117, loss = 0.01743633\n",
            "Iteration 118, loss = 0.02292457\n",
            "Iteration 119, loss = 0.02776483\n",
            "Iteration 120, loss = 0.02909369\n",
            "Iteration 121, loss = 0.03818523\n",
            "Iteration 122, loss = 0.03039281\n",
            "Iteration 123, loss = 0.02528631\n",
            "Training loss did not improve more than tol=0.000100 for 10 consecutive epochs. Stopping.\n",
            "Accuracy on test samples = 0.9170\n",
            "Classification report on test samples:\n",
            "              precision    recall  f1-score   support\n",
            "\n",
            "         0.0     0.9426    0.9237    0.9331       498\n",
            "         1.0     0.8930    0.9053    0.8991       507\n",
            "         2.0     0.9209    0.9026    0.9116       503\n",
            "         3.0     0.9129    0.9370    0.9248       492\n",
            "\n",
            "    accuracy                         0.9170      2000\n",
            "   macro avg     0.9173    0.9171    0.9172      2000\n",
            "weighted avg     0.9173    0.9170    0.9170      2000\n",
            "\n",
            "CPU times: user 3min 4s, sys: 44.1 s, total: 3min 49s\n",
            "Wall time: 20.5 s\n"
          ]
        }
      ],
      "source": [
        "%%time\n",
        "model = MLPClassifier(hidden_layer_sizes=(1000, 100), max_iter=1000, verbose=True)\n",
        "for k,v in model.get_params().items():\n",
        "    print(f'{k}: {v}')\n",
        "model.fit(X_train, y_train)\n",
        "predicted = model.predict(X_test) # predicted classes for test examples\n",
        "acc = accuracy_score(y_test, predicted) # accuracy on test samples\n",
        "print(f'Accuracy on test samples = {acc:0.4f}') # show test accuracy\n",
        "print(\"Classification report on test samples:\") # for precision, recall, F1-score\n",
        "print(classification_report(y_test, predicted, digits=4)) # rounded to 4 decimal places"
      ]
    },
    {
      "cell_type": "markdown",
      "metadata": {
        "id": "C2SCLsZcC2MA"
      },
      "source": [
        "## Select a good model\n",
        "Since both *Support Vector Classifier* and *K Nearest Neighbor Classifier* produced high cmean cross-validation accuracy with default hyper-parameter values, we shall search for good hyper-parameter values for these models using cross-validation and choose a model with a good set of hyper-parameter values."
      ]
    },
    {
      "cell_type": "markdown",
      "metadata": {
        "id": "6qhf0DPqoGTs"
      },
      "source": [
        "### SVC\n",
        "Search for a good value of the penalty *C*."
      ]
    },
    {
      "cell_type": "code",
      "execution_count": 14,
      "metadata": {
        "colab": {
          "base_uri": "https://localhost:8080/"
        },
        "id": "ic1FrpZVNkCL",
        "outputId": "f7f58641-9644-4581-819e-b28977bd572e"
      },
      "outputs": [
        {
          "name": "stdout",
          "output_type": "stream",
          "text": [
            "Mean cross-validation accuracy = 0.9326 for SVC with C = 1.0\n",
            "Mean cross-validation accuracy = 0.9355 for SVC with C = 10.0\n",
            "Mean cross-validation accuracy = 0.9330 for SVC with C = 20.0\n",
            "CPU times: user 14.9 s, sys: 472 ms, total: 15.4 s\n",
            "Wall time: 14 s\n"
          ]
        }
      ],
      "source": [
        "%%time\n",
        "for penalty in [1, 10, 20]: # values to try\n",
        "    model = SVC(C=penalty)\n",
        "    score = cross_val_score(model, X_train, y_train).mean() # mean cross-validation accuracy\n",
        "    print(f'Mean cross-validation accuracy = {score:0.4f} for SVC with C = {penalty:0.1f}')"
      ]
    },
    {
      "cell_type": "markdown",
      "metadata": {
        "id": "2-mmRMdNo4sM"
      },
      "source": [
        "### KNeighborsClassifier\n",
        "Search for a good value of the number of nearest neighbors"
      ]
    },
    {
      "cell_type": "code",
      "execution_count": 15,
      "metadata": {
        "colab": {
          "base_uri": "https://localhost:8080/"
        },
        "id": "pOta-StUpVJz",
        "outputId": "d30da1bf-c899-4594-eed2-7fc34dc87334"
      },
      "outputs": [
        {
          "name": "stdout",
          "output_type": "stream",
          "text": [
            "Mean cross-validation accuracy = 0.8804 for KNeighborsClassifier with 1 neighbors\n",
            "Mean cross-validation accuracy = 0.8732 for KNeighborsClassifier with 2 neighbors\n",
            "Mean cross-validation accuracy = 0.9243 for KNeighborsClassifier with 3 neighbors\n",
            "Mean cross-validation accuracy = 0.9261 for KNeighborsClassifier with 4 neighbors\n",
            "Mean cross-validation accuracy = 0.9303 for KNeighborsClassifier with 5 neighbors\n",
            "Mean cross-validation accuracy = 0.9303 for KNeighborsClassifier with 6 neighbors\n",
            "Mean cross-validation accuracy = 0.9297 for KNeighborsClassifier with 7 neighbors\n",
            "Mean cross-validation accuracy = 0.9299 for KNeighborsClassifier with 8 neighbors\n",
            "Mean cross-validation accuracy = 0.9307 for KNeighborsClassifier with 9 neighbors\n"
          ]
        }
      ],
      "source": [
        "for k in range(1,10): # values to try\n",
        "    model = KNeighborsClassifier(n_neighbors=k)\n",
        "    score = cross_val_score(model, X_train, y_train).mean() # mean cross-validation accuracy\n",
        "    print(f'Mean cross-validation accuracy = {score:0.4f} for KNeighborsClassifier with {k} neighbors')"
      ]
    },
    {
      "cell_type": "markdown",
      "metadata": {
        "id": "UrsweJwkqEYZ"
      },
      "source": [
        "### Decide on a model\n",
        "We shall choose *SVC* with *C*=10."
      ]
    },
    {
      "cell_type": "code",
      "execution_count": 16,
      "metadata": {
        "colab": {
          "base_uri": "https://localhost:8080/"
        },
        "id": "LcZi6spm4GGN",
        "outputId": "bde3abc0-088d-408d-983f-b71bf149b9bf"
      },
      "outputs": [
        {
          "name": "stdout",
          "output_type": "stream",
          "text": [
            "Selected model:  SVC(C=10)\n",
            "Parameters\n",
            "\tC: 10\n",
            "\tbreak_ties: False\n",
            "\tcache_size: 200\n",
            "\tclass_weight: None\n",
            "\tcoef0: 0.0\n",
            "\tdecision_function_shape: ovr\n",
            "\tdegree: 3\n",
            "\tgamma: scale\n",
            "\tkernel: rbf\n",
            "\tmax_iter: -1\n",
            "\tprobability: False\n",
            "\trandom_state: None\n",
            "\tshrinking: True\n",
            "\ttol: 0.001\n",
            "\tverbose: False\n"
          ]
        }
      ],
      "source": [
        "chosen_model = SVC(C=10)\n",
        "print('Selected model: ', chosen_model)\n",
        "print('Parameters')\n",
        "for param, val in chosen_model.get_params().items():\n",
        "    print(f'\\t{param}: {val}')"
      ]
    },
    {
      "cell_type": "markdown",
      "metadata": {
        "id": "mObRT95gXrzZ"
      },
      "source": [
        "## Train and test selected model"
      ]
    },
    {
      "cell_type": "code",
      "execution_count": 17,
      "metadata": {
        "colab": {
          "base_uri": "https://localhost:8080/"
        },
        "id": "RZ_fqywZXw83",
        "outputId": "10a06c6a-865a-42f6-e5d6-d1496e12c074"
      },
      "outputs": [
        {
          "name": "stdout",
          "output_type": "stream",
          "text": [
            "Accuracy on test samples = 0.9435\n",
            "Classification report on test samples:\n",
            "              precision    recall  f1-score   support\n",
            "\n",
            "         0.0     0.9556    0.9498    0.9527       498\n",
            "         1.0     0.9184    0.9546    0.9362       507\n",
            "         2.0     0.9420    0.9364    0.9392       503\n",
            "         3.0     0.9603    0.9329    0.9464       492\n",
            "\n",
            "    accuracy                         0.9435      2000\n",
            "   macro avg     0.9441    0.9434    0.9436      2000\n",
            "weighted avg     0.9439    0.9435    0.9436      2000\n",
            "\n",
            "CPU times: user 1.4 s, sys: 989 µs, total: 1.4 s\n",
            "Wall time: 1.44 s\n"
          ]
        }
      ],
      "source": [
        "%%time\n",
        "chosen_model = SVC(C=10)\n",
        "chosen_model.fit(X_train, y_train) # train selected model on ALL training examples\n",
        "predicted = chosen_model.predict(X_test) # predicted classes for test examples\n",
        "acc = accuracy_score(y_test, predicted) # accuracy on test samples\n",
        "print(f'Accuracy on test samples = {acc:0.4f}') # show test accuracy\n",
        "print(\"Classification report on test samples:\") # for precision, recall, F1-score\n",
        "print(classification_report(y_test, predicted, digits=4)) # rounded to 4 decimal places"
      ]
    },
    {
      "cell_type": "code",
      "execution_count": 18,
      "metadata": {
        "colab": {
          "base_uri": "https://localhost:8080/",
          "height": 175
        },
        "id": "PJokDrtOE4oG",
        "outputId": "c6a36fc7-f610-44d0-82ac-af65ceb03888"
      },
      "outputs": [
        {
          "data": {
            "text/html": [
              "<div>\n",
              "<style scoped>\n",
              "    .dataframe tbody tr th:only-of-type {\n",
              "        vertical-align: middle;\n",
              "    }\n",
              "\n",
              "    .dataframe tbody tr th {\n",
              "        vertical-align: top;\n",
              "    }\n",
              "\n",
              "    .dataframe thead th {\n",
              "        text-align: right;\n",
              "    }\n",
              "</style>\n",
              "<table border=\"1\" class=\"dataframe\">\n",
              "  <thead>\n",
              "    <tr style=\"text-align: right;\">\n",
              "      <th></th>\n",
              "      <th>0</th>\n",
              "      <th>1</th>\n",
              "      <th>2</th>\n",
              "      <th>3</th>\n",
              "    </tr>\n",
              "  </thead>\n",
              "  <tbody>\n",
              "    <tr>\n",
              "      <th>0</th>\n",
              "      <td>473</td>\n",
              "      <td>10</td>\n",
              "      <td>9</td>\n",
              "      <td>6</td>\n",
              "    </tr>\n",
              "    <tr>\n",
              "      <th>1</th>\n",
              "      <td>6</td>\n",
              "      <td>484</td>\n",
              "      <td>10</td>\n",
              "      <td>7</td>\n",
              "    </tr>\n",
              "    <tr>\n",
              "      <th>2</th>\n",
              "      <td>9</td>\n",
              "      <td>17</td>\n",
              "      <td>471</td>\n",
              "      <td>6</td>\n",
              "    </tr>\n",
              "    <tr>\n",
              "      <th>3</th>\n",
              "      <td>7</td>\n",
              "      <td>16</td>\n",
              "      <td>10</td>\n",
              "      <td>459</td>\n",
              "    </tr>\n",
              "  </tbody>\n",
              "</table>\n",
              "</div>"
            ],
            "text/plain": [
              "     0    1    2    3\n",
              "0  473   10    9    6\n",
              "1    6  484   10    7\n",
              "2    9   17  471    6\n",
              "3    7   16   10  459"
            ]
          },
          "execution_count": 18,
          "metadata": {},
          "output_type": "execute_result"
        }
      ],
      "source": [
        "cm = pd.DataFrame(confusion_matrix(y_test, predicted)) # confusion matrix\n",
        "cm.to_csv('cm.hw2.q2.csv')\n",
        "cm"
      ]
    },
    {
      "cell_type": "markdown",
      "metadata": {
        "id": "HaPNAkBiGCkA"
      },
      "source": [
        "## Predict class for unlabeled samples\n",
        "We shall use our trained model to predict the output class for the unlabeled samples."
      ]
    },
    {
      "cell_type": "code",
      "execution_count": 19,
      "metadata": {
        "colab": {
          "base_uri": "https://localhost:8080/",
          "height": 990
        },
        "id": "yEqI9Ic6GV_v",
        "outputId": "ff317242-2fa6-4fb9-ca90-81a024e08210"
      },
      "outputs": [
        {
          "data": {
            "text/html": [
              "<div>\n",
              "<style scoped>\n",
              "    .dataframe tbody tr th:only-of-type {\n",
              "        vertical-align: middle;\n",
              "    }\n",
              "\n",
              "    .dataframe tbody tr th {\n",
              "        vertical-align: top;\n",
              "    }\n",
              "\n",
              "    .dataframe thead th {\n",
              "        text-align: right;\n",
              "    }\n",
              "</style>\n",
              "<table border=\"1\" class=\"dataframe\">\n",
              "  <thead>\n",
              "    <tr style=\"text-align: right;\">\n",
              "      <th></th>\n",
              "      <th>ID</th>\n",
              "      <th>y</th>\n",
              "    </tr>\n",
              "  </thead>\n",
              "  <tbody>\n",
              "    <tr>\n",
              "      <th>0</th>\n",
              "      <td>ID_001</td>\n",
              "      <td>0.0</td>\n",
              "    </tr>\n",
              "    <tr>\n",
              "      <th>1</th>\n",
              "      <td>ID_002</td>\n",
              "      <td>0.0</td>\n",
              "    </tr>\n",
              "    <tr>\n",
              "      <th>2</th>\n",
              "      <td>ID_003</td>\n",
              "      <td>0.0</td>\n",
              "    </tr>\n",
              "    <tr>\n",
              "      <th>3</th>\n",
              "      <td>ID_004</td>\n",
              "      <td>2.0</td>\n",
              "    </tr>\n",
              "    <tr>\n",
              "      <th>4</th>\n",
              "      <td>ID_005</td>\n",
              "      <td>0.0</td>\n",
              "    </tr>\n",
              "    <tr>\n",
              "      <th>5</th>\n",
              "      <td>ID_006</td>\n",
              "      <td>0.0</td>\n",
              "    </tr>\n",
              "    <tr>\n",
              "      <th>6</th>\n",
              "      <td>ID_007</td>\n",
              "      <td>0.0</td>\n",
              "    </tr>\n",
              "    <tr>\n",
              "      <th>7</th>\n",
              "      <td>ID_008</td>\n",
              "      <td>0.0</td>\n",
              "    </tr>\n",
              "    <tr>\n",
              "      <th>8</th>\n",
              "      <td>ID_009</td>\n",
              "      <td>3.0</td>\n",
              "    </tr>\n",
              "    <tr>\n",
              "      <th>9</th>\n",
              "      <td>ID_010</td>\n",
              "      <td>0.0</td>\n",
              "    </tr>\n",
              "    <tr>\n",
              "      <th>10</th>\n",
              "      <td>ID_011</td>\n",
              "      <td>0.0</td>\n",
              "    </tr>\n",
              "    <tr>\n",
              "      <th>11</th>\n",
              "      <td>ID_012</td>\n",
              "      <td>1.0</td>\n",
              "    </tr>\n",
              "    <tr>\n",
              "      <th>12</th>\n",
              "      <td>ID_013</td>\n",
              "      <td>1.0</td>\n",
              "    </tr>\n",
              "    <tr>\n",
              "      <th>13</th>\n",
              "      <td>ID_014</td>\n",
              "      <td>1.0</td>\n",
              "    </tr>\n",
              "    <tr>\n",
              "      <th>14</th>\n",
              "      <td>ID_015</td>\n",
              "      <td>1.0</td>\n",
              "    </tr>\n",
              "    <tr>\n",
              "      <th>15</th>\n",
              "      <td>ID_016</td>\n",
              "      <td>1.0</td>\n",
              "    </tr>\n",
              "    <tr>\n",
              "      <th>16</th>\n",
              "      <td>ID_017</td>\n",
              "      <td>1.0</td>\n",
              "    </tr>\n",
              "    <tr>\n",
              "      <th>17</th>\n",
              "      <td>ID_018</td>\n",
              "      <td>1.0</td>\n",
              "    </tr>\n",
              "    <tr>\n",
              "      <th>18</th>\n",
              "      <td>ID_019</td>\n",
              "      <td>1.0</td>\n",
              "    </tr>\n",
              "    <tr>\n",
              "      <th>19</th>\n",
              "      <td>ID_020</td>\n",
              "      <td>1.0</td>\n",
              "    </tr>\n",
              "    <tr>\n",
              "      <th>20</th>\n",
              "      <td>ID_021</td>\n",
              "      <td>1.0</td>\n",
              "    </tr>\n",
              "    <tr>\n",
              "      <th>21</th>\n",
              "      <td>ID_022</td>\n",
              "      <td>2.0</td>\n",
              "    </tr>\n",
              "    <tr>\n",
              "      <th>22</th>\n",
              "      <td>ID_023</td>\n",
              "      <td>2.0</td>\n",
              "    </tr>\n",
              "    <tr>\n",
              "      <th>23</th>\n",
              "      <td>ID_024</td>\n",
              "      <td>2.0</td>\n",
              "    </tr>\n",
              "    <tr>\n",
              "      <th>24</th>\n",
              "      <td>ID_025</td>\n",
              "      <td>2.0</td>\n",
              "    </tr>\n",
              "    <tr>\n",
              "      <th>25</th>\n",
              "      <td>ID_026</td>\n",
              "      <td>3.0</td>\n",
              "    </tr>\n",
              "    <tr>\n",
              "      <th>26</th>\n",
              "      <td>ID_027</td>\n",
              "      <td>3.0</td>\n",
              "    </tr>\n",
              "    <tr>\n",
              "      <th>27</th>\n",
              "      <td>ID_028</td>\n",
              "      <td>3.0</td>\n",
              "    </tr>\n",
              "    <tr>\n",
              "      <th>28</th>\n",
              "      <td>ID_029</td>\n",
              "      <td>3.0</td>\n",
              "    </tr>\n",
              "    <tr>\n",
              "      <th>29</th>\n",
              "      <td>ID_030</td>\n",
              "      <td>3.0</td>\n",
              "    </tr>\n",
              "  </tbody>\n",
              "</table>\n",
              "</div>"
            ],
            "text/plain": [
              "        ID    y\n",
              "0   ID_001  0.0\n",
              "1   ID_002  0.0\n",
              "2   ID_003  0.0\n",
              "3   ID_004  2.0\n",
              "4   ID_005  0.0\n",
              "5   ID_006  0.0\n",
              "6   ID_007  0.0\n",
              "7   ID_008  0.0\n",
              "8   ID_009  3.0\n",
              "9   ID_010  0.0\n",
              "10  ID_011  0.0\n",
              "11  ID_012  1.0\n",
              "12  ID_013  1.0\n",
              "13  ID_014  1.0\n",
              "14  ID_015  1.0\n",
              "15  ID_016  1.0\n",
              "16  ID_017  1.0\n",
              "17  ID_018  1.0\n",
              "18  ID_019  1.0\n",
              "19  ID_020  1.0\n",
              "20  ID_021  1.0\n",
              "21  ID_022  2.0\n",
              "22  ID_023  2.0\n",
              "23  ID_024  2.0\n",
              "24  ID_025  2.0\n",
              "25  ID_026  3.0\n",
              "26  ID_027  3.0\n",
              "27  ID_028  3.0\n",
              "28  ID_029  3.0\n",
              "29  ID_030  3.0"
            ]
          },
          "execution_count": 19,
          "metadata": {},
          "output_type": "execute_result"
        }
      ],
      "source": [
        "predicted_new = chosen_model.predict(X_new) # predicted classes for unlabeled samples\n",
        "hw2q2_prediction = pd.DataFrame() # dataframe with predicted classes\n",
        "hw2q2_prediction['ID'] = new.ID # identifiers for unlabeled samples\n",
        "hw2q2_prediction['y'] = predicted_new # # predicted classes for unlabeled samples\n",
        "hw2q2_prediction.to_csv('hw2.q2.prediction.csv', index=False) # save as CSV file\n",
        "hw2q2_prediction # display results"
      ]
    }
  ],
  "metadata": {
    "colab": {
      "provenance": []
    },
    "kernelspec": {
      "display_name": "Python 3",
      "name": "python3"
    },
    "language_info": {
      "codemirror_mode": {
        "name": "ipython",
        "version": 3
      },
      "file_extension": ".py",
      "mimetype": "text/x-python",
      "name": "python",
      "nbconvert_exporter": "python",
      "pygments_lexer": "ipython3",
      "version": "3.9.7"
    }
  },
  "nbformat": 4,
  "nbformat_minor": 0
}
