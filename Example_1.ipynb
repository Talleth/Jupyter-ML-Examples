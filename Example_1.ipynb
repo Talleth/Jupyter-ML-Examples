{
  "cells": [
    {
      "cell_type": "markdown",
      "metadata": {
        "id": "-CzSARMSmsjf"
      },
      "source": [
        "## Import"
      ]
    },
    {
      "cell_type": "code",
      "execution_count": 1,
      "metadata": {
        "id": "KWlSMPV4oLDw"
      },
      "outputs": [],
      "source": [
        "import pandas as pd # for data handling\n",
        "from sklearn.model_selection import cross_val_score # for cross-validation\n",
        "from sklearn.metrics import accuracy_score, classification_report, confusion_matrix # evaluation metrics\n",
        "import matplotlib.pyplot as plt # for plotting\n",
        "# use DecisionTreeClassifier\n",
        "from sklearn.tree import DecisionTreeClassifier, plot_tree"
      ]
    },
    {
      "cell_type": "markdown",
      "metadata": {
        "id": "DvtLGpXNnAGt"
      },
      "source": [
        "## Get data\n",
        "Specify the complete path for the zip file containing data. Make sure that the drive is mounted.\n"
      ]
    },
    {
      "cell_type": "code",
      "execution_count": 2,
      "metadata": {
        "colab": {
          "base_uri": "https://localhost:8080/"
        },
        "id": "qnSnuRaDqbWQ",
        "outputId": "b5d32f8a-1338-49b3-f896-221823a074c8"
      },
      "outputs": [
        {
          "name": "stdout",
          "output_type": "stream",
          "text": [
            "unzip:  cannot find or open ./hw2-1.q1.data.zip, ./hw2-1.q1.data.zip.zip or ./hw2-1.q1.data.zip.ZIP.\n"
          ]
        }
      ],
      "source": [
        "! unzip './hw2-1.q1.data.zip'"
      ]
    },
    {
      "cell_type": "code",
      "execution_count": 3,
      "metadata": {
        "colab": {
          "base_uri": "https://localhost:8080/",
          "height": 242
        },
        "id": "3LNrsgt9qgYQ",
        "outputId": "a2473dde-593d-4bdb-a1c4-70ac02a6f067"
      },
      "outputs": [
        {
          "name": "stdout",
          "output_type": "stream",
          "text": [
            "train contains 10000 rows and 41 columns\n",
            "test contains 2000 rows and 41 columns\n",
            "new contains 30 rows and 41 columns\n",
            "First 3 rows in train:\n"
          ]
        },
        {
          "data": {
            "text/html": [
              "<div>\n",
              "<style scoped>\n",
              "    .dataframe tbody tr th:only-of-type {\n",
              "        vertical-align: middle;\n",
              "    }\n",
              "\n",
              "    .dataframe tbody tr th {\n",
              "        vertical-align: top;\n",
              "    }\n",
              "\n",
              "    .dataframe thead th {\n",
              "        text-align: right;\n",
              "    }\n",
              "</style>\n",
              "<table border=\"1\" class=\"dataframe\">\n",
              "  <thead>\n",
              "    <tr style=\"text-align: right;\">\n",
              "      <th></th>\n",
              "      <th>y</th>\n",
              "      <th>x1</th>\n",
              "      <th>x2</th>\n",
              "      <th>x3</th>\n",
              "      <th>x4</th>\n",
              "      <th>x5</th>\n",
              "      <th>x6</th>\n",
              "      <th>x7</th>\n",
              "      <th>x8</th>\n",
              "      <th>x9</th>\n",
              "      <th>...</th>\n",
              "      <th>x31</th>\n",
              "      <th>x32</th>\n",
              "      <th>x33</th>\n",
              "      <th>x34</th>\n",
              "      <th>x35</th>\n",
              "      <th>x36</th>\n",
              "      <th>x37</th>\n",
              "      <th>x38</th>\n",
              "      <th>x39</th>\n",
              "      <th>x40</th>\n",
              "    </tr>\n",
              "  </thead>\n",
              "  <tbody>\n",
              "    <tr>\n",
              "      <th>0</th>\n",
              "      <td>1.0</td>\n",
              "      <td>0.835</td>\n",
              "      <td>0.902</td>\n",
              "      <td>0.249</td>\n",
              "      <td>0.809</td>\n",
              "      <td>0.244</td>\n",
              "      <td>0.569</td>\n",
              "      <td>0.947</td>\n",
              "      <td>0.139</td>\n",
              "      <td>0.536</td>\n",
              "      <td>...</td>\n",
              "      <td>0.131</td>\n",
              "      <td>0.667</td>\n",
              "      <td>0.564</td>\n",
              "      <td>0.244</td>\n",
              "      <td>0.446</td>\n",
              "      <td>0.543</td>\n",
              "      <td>0.607</td>\n",
              "      <td>0.239</td>\n",
              "      <td>0.650</td>\n",
              "      <td>0.203</td>\n",
              "    </tr>\n",
              "    <tr>\n",
              "      <th>1</th>\n",
              "      <td>0.0</td>\n",
              "      <td>0.957</td>\n",
              "      <td>0.839</td>\n",
              "      <td>0.337</td>\n",
              "      <td>0.542</td>\n",
              "      <td>0.136</td>\n",
              "      <td>0.322</td>\n",
              "      <td>0.529</td>\n",
              "      <td>0.512</td>\n",
              "      <td>0.931</td>\n",
              "      <td>...</td>\n",
              "      <td>0.960</td>\n",
              "      <td>0.656</td>\n",
              "      <td>0.319</td>\n",
              "      <td>0.357</td>\n",
              "      <td>0.161</td>\n",
              "      <td>0.300</td>\n",
              "      <td>0.070</td>\n",
              "      <td>0.118</td>\n",
              "      <td>0.690</td>\n",
              "      <td>0.623</td>\n",
              "    </tr>\n",
              "    <tr>\n",
              "      <th>2</th>\n",
              "      <td>0.0</td>\n",
              "      <td>0.017</td>\n",
              "      <td>0.167</td>\n",
              "      <td>0.368</td>\n",
              "      <td>0.564</td>\n",
              "      <td>0.817</td>\n",
              "      <td>0.133</td>\n",
              "      <td>0.351</td>\n",
              "      <td>0.420</td>\n",
              "      <td>0.807</td>\n",
              "      <td>...</td>\n",
              "      <td>0.126</td>\n",
              "      <td>0.556</td>\n",
              "      <td>0.171</td>\n",
              "      <td>0.617</td>\n",
              "      <td>0.114</td>\n",
              "      <td>0.193</td>\n",
              "      <td>0.910</td>\n",
              "      <td>0.078</td>\n",
              "      <td>0.595</td>\n",
              "      <td>0.805</td>\n",
              "    </tr>\n",
              "  </tbody>\n",
              "</table>\n",
              "<p>3 rows × 41 columns</p>\n",
              "</div>"
            ],
            "text/plain": [
              "     y     x1     x2     x3     x4     x5     x6     x7     x8     x9  ...  \\\n",
              "0  1.0  0.835  0.902  0.249  0.809  0.244  0.569  0.947  0.139  0.536  ...   \n",
              "1  0.0  0.957  0.839  0.337  0.542  0.136  0.322  0.529  0.512  0.931  ...   \n",
              "2  0.0  0.017  0.167  0.368  0.564  0.817  0.133  0.351  0.420  0.807  ...   \n",
              "\n",
              "     x31    x32    x33    x34    x35    x36    x37    x38    x39    x40  \n",
              "0  0.131  0.667  0.564  0.244  0.446  0.543  0.607  0.239  0.650  0.203  \n",
              "1  0.960  0.656  0.319  0.357  0.161  0.300  0.070  0.118  0.690  0.623  \n",
              "2  0.126  0.556  0.171  0.617  0.114  0.193  0.910  0.078  0.595  0.805  \n",
              "\n",
              "[3 rows x 41 columns]"
            ]
          },
          "execution_count": 3,
          "metadata": {},
          "output_type": "execute_result"
        }
      ],
      "source": [
        "# Read data from CSV files into pandas dataframes\n",
        "train = pd.read_csv('final.q2.train.csv') # training data\n",
        "test = pd.read_csv('final.q2.test.csv') # test data\n",
        "new = pd.read_csv('final.q2.new.csv') # unlabeled data\n",
        "# Show number of rows and columns in each dataframe\n",
        "print('train contains %d rows and %d columns' %train.shape)\n",
        "print('test contains %d rows and %d columns' %test.shape)\n",
        "print('new contains %d rows and %d columns' %new.shape)\n",
        "print('First 3 rows in train:')\n",
        "train.head(3) # display first 3 training samples"
      ]
    },
    {
      "cell_type": "markdown",
      "metadata": {
        "id": "27nEqTZMpRDJ"
      },
      "source": [
        "## Specify inputs and outputs"
      ]
    },
    {
      "cell_type": "code",
      "execution_count": 4,
      "metadata": {
        "colab": {
          "base_uri": "https://localhost:8080/"
        },
        "id": "GJ8ohEGf-Mi8",
        "outputId": "08f638b5-09a7-4dca-aec7-8af9b53e3a68"
      },
      "outputs": [
        {
          "name": "stdout",
          "output_type": "stream",
          "text": [
            "features: ['x1', 'x2', 'x3', 'x4', 'x5', 'x6', 'x7', 'x8', 'x9', 'x10', 'x11', 'x12', 'x13', 'x14', 'x15', 'x16', 'x17', 'x18', 'x19', 'x20', 'x21', 'x22', 'x23', 'x24', 'x25', 'x26', 'x27', 'x28', 'x29', 'x30', 'x31', 'x32', 'x33', 'x34', 'x35', 'x36', 'x37', 'x38', 'x39', 'x40']\n",
            "Shapes:\n",
            "X_train: (10000, 40), X_test: (2000, 40), X_new: (30, 40)\n",
            "y_train: (10000,), y_test: (2000,)\n"
          ]
        }
      ],
      "source": [
        "features = list(train)[1:] # all but the first column header are feature names\n",
        "print(\"features:\", features)\n",
        "X_train, X_test, X_new = train[features], test[features], new[features]\n",
        "y_train, y_test = train.y, test.y\n",
        "print('Shapes:')\n",
        "print(f'X_train: {X_train.shape}, X_test: {X_test.shape}, X_new: {X_new.shape}')\n",
        "print(f'y_train: {y_train.shape}, y_test: {y_test.shape}')"
      ]
    },
    {
      "cell_type": "markdown",
      "metadata": {
        "id": "X-_u7rmorS4X"
      },
      "source": [
        "## Choose good hyper-parameters for decision tree through cross-validation\n",
        "We shall vary the maximum number of leaf nodes (rules) in the tree and chose the minimum number of rules that lead to satisfactory classification accuracy."
      ]
    },
    {
      "cell_type": "code",
      "execution_count": 5,
      "metadata": {
        "colab": {
          "base_uri": "https://localhost:8080/"
        },
        "id": "ic1FrpZVNkCL",
        "outputId": "9bfe6c86-34d9-414d-b37e-7f5d7060a63f"
      },
      "outputs": [
        {
          "name": "stdout",
          "output_type": "stream",
          "text": [
            "Mean cross-validation accuracy with 2 rules = 0.6947\n",
            "Mean cross-validation accuracy with 3 rules = 0.8466\n",
            "Mean cross-validation accuracy with 4 rules = 0.9317\n",
            "Mean cross-validation accuracy with 5 rules = 0.9315\n",
            "Mean cross-validation accuracy with 6 rules = 0.9312\n",
            "Mean cross-validation accuracy with 7 rules = 0.9305\n",
            "Mean cross-validation accuracy with 8 rules = 0.9311\n",
            "Mean cross-validation accuracy with 9 rules = 0.9300\n"
          ]
        }
      ],
      "source": [
        "for k in range(2,10): # number of rules\n",
        "    model = DecisionTreeClassifier(max_leaf_nodes=k)\n",
        "    score = cross_val_score(model, X_train, y_train, cv=5).mean() # mean cross-validation accuracy\n",
        "    print(f'Mean cross-validation accuracy with {k} rules = {score:0.4f}')"
      ]
    },
    {
      "cell_type": "markdown",
      "metadata": {
        "id": "YxeVVvn5tDot"
      },
      "source": [
        "## Select a good model\n",
        "In this case, a tree with fewer than 4 leaf nodes underfits and a tree with more than 4 leaf nodes overfits. So choose *max_leaf_nodes* = 4."
      ]
    },
    {
      "cell_type": "markdown",
      "metadata": {},
      "source": []
    },
    {
      "cell_type": "code",
      "execution_count": 6,
      "metadata": {
        "colab": {
          "base_uri": "https://localhost:8080/",
          "height": 74
        },
        "id": "MeODb-ADtG4E",
        "outputId": "8775a880-0295-4628-da27-abbd4844b2f0"
      },
      "outputs": [
        {
          "data": {
            "text/plain": [
              "DecisionTreeClassifier(max_leaf_nodes=4)"
            ]
          },
          "execution_count": 6,
          "metadata": {},
          "output_type": "execute_result"
        }
      ],
      "source": [
        "k = 4 # selected value for max_leaf_nodes\n",
        "chosen_model = DecisionTreeClassifier(max_leaf_nodes=k)\n",
        "chosen_model"
      ]
    },
    {
      "cell_type": "markdown",
      "metadata": {
        "id": "SgiP-18RZm83"
      },
      "source": [
        "## Train chosen model"
      ]
    },
    {
      "cell_type": "code",
      "execution_count": 7,
      "metadata": {
        "colab": {
          "base_uri": "https://localhost:8080/",
          "height": 74
        },
        "id": "dTnVDcBEtmfe",
        "outputId": "bfdf4bd3-051f-4b55-a4d5-9846fa9f172d"
      },
      "outputs": [
        {
          "data": {
            "text/plain": [
              "DecisionTreeClassifier(max_leaf_nodes=4)"
            ]
          },
          "execution_count": 7,
          "metadata": {},
          "output_type": "execute_result"
        }
      ],
      "source": [
        "chosen_model.fit(X_train, y_train) # train selected model on ALL training examples"
      ]
    },
    {
      "cell_type": "markdown",
      "metadata": {
        "id": "P4SXhCnfZ61z"
      },
      "source": [
        "## Evaluate trained model on test samples"
      ]
    },
    {
      "cell_type": "code",
      "execution_count": 8,
      "metadata": {
        "colab": {
          "base_uri": "https://localhost:8080/"
        },
        "id": "RZ_fqywZXw83",
        "outputId": "e7afccad-673b-425d-c61d-c38807a380fe"
      },
      "outputs": [
        {
          "name": "stdout",
          "output_type": "stream",
          "text": [
            "Accuracy on test samples = 0.9355\n",
            "Classification report on test samples:\n",
            "              precision    recall  f1-score   support\n",
            "\n",
            "         0.0     0.9290    0.9446    0.9367      1011\n",
            "         1.0     0.9424    0.9262    0.9342       989\n",
            "\n",
            "    accuracy                         0.9355      2000\n",
            "   macro avg     0.9357    0.9354    0.9355      2000\n",
            "weighted avg     0.9356    0.9355    0.9355      2000\n",
            "\n"
          ]
        }
      ],
      "source": [
        "predicted = chosen_model.predict(X_test) # predicted y for test examples\n",
        "acc = accuracy_score(y_test, predicted) # accuracy on test samples\n",
        "print(f'Accuracy on test samples = {acc:0.4f}') # show test accuracy\n",
        "print(\"Classification report on test samples:\") # for precision, recall, F1-score\n",
        "print(classification_report(y_test, predicted, digits=4)) # rounded to 4 decimal places"
      ]
    },
    {
      "cell_type": "markdown",
      "metadata": {
        "id": "imx7c6_ZaKYH"
      },
      "source": [
        "### Confusion matrix"
      ]
    },
    {
      "cell_type": "code",
      "execution_count": 9,
      "metadata": {
        "colab": {
          "base_uri": "https://localhost:8080/",
          "height": 112
        },
        "id": "FhCHpmRFcNlF",
        "outputId": "67d1369b-2a49-489a-8fdb-d72947503ffd"
      },
      "outputs": [
        {
          "data": {
            "text/html": [
              "<div>\n",
              "<style scoped>\n",
              "    .dataframe tbody tr th:only-of-type {\n",
              "        vertical-align: middle;\n",
              "    }\n",
              "\n",
              "    .dataframe tbody tr th {\n",
              "        vertical-align: top;\n",
              "    }\n",
              "\n",
              "    .dataframe thead th {\n",
              "        text-align: right;\n",
              "    }\n",
              "</style>\n",
              "<table border=\"1\" class=\"dataframe\">\n",
              "  <thead>\n",
              "    <tr style=\"text-align: right;\">\n",
              "      <th></th>\n",
              "      <th>0</th>\n",
              "      <th>1</th>\n",
              "    </tr>\n",
              "  </thead>\n",
              "  <tbody>\n",
              "    <tr>\n",
              "      <th>0</th>\n",
              "      <td>955</td>\n",
              "      <td>56</td>\n",
              "    </tr>\n",
              "    <tr>\n",
              "      <th>1</th>\n",
              "      <td>73</td>\n",
              "      <td>916</td>\n",
              "    </tr>\n",
              "  </tbody>\n",
              "</table>\n",
              "</div>"
            ],
            "text/plain": [
              "     0    1\n",
              "0  955   56\n",
              "1   73  916"
            ]
          },
          "execution_count": 9,
          "metadata": {},
          "output_type": "execute_result"
        }
      ],
      "source": [
        "cm = pd.DataFrame(confusion_matrix(y_test, predicted))\n",
        "cm.to_csv('cm.csv') # save confusion matrix\n",
        "cm # display confusion matrix"
      ]
    },
    {
      "cell_type": "code",
      "execution_count": null,
      "metadata": {},
      "outputs": [],
      "source": []
    },
    {
      "cell_type": "markdown",
      "metadata": {
        "id": "4pPaQEfavOy0"
      },
      "source": [
        "## Predict output for unlabeled samples"
      ]
    },
    {
      "cell_type": "code",
      "execution_count": 10,
      "metadata": {
        "colab": {
          "base_uri": "https://localhost:8080/",
          "height": 990
        },
        "id": "yEqI9Ic6GV_v",
        "outputId": "2d29e4e4-9814-422b-fe97-27e75978680e"
      },
      "outputs": [
        {
          "data": {
            "text/html": [
              "<div>\n",
              "<style scoped>\n",
              "    .dataframe tbody tr th:only-of-type {\n",
              "        vertical-align: middle;\n",
              "    }\n",
              "\n",
              "    .dataframe tbody tr th {\n",
              "        vertical-align: top;\n",
              "    }\n",
              "\n",
              "    .dataframe thead th {\n",
              "        text-align: right;\n",
              "    }\n",
              "</style>\n",
              "<table border=\"1\" class=\"dataframe\">\n",
              "  <thead>\n",
              "    <tr style=\"text-align: right;\">\n",
              "      <th></th>\n",
              "      <th>ID</th>\n",
              "      <th>y</th>\n",
              "    </tr>\n",
              "  </thead>\n",
              "  <tbody>\n",
              "    <tr>\n",
              "      <th>0</th>\n",
              "      <td>ID_001</td>\n",
              "      <td>0.0</td>\n",
              "    </tr>\n",
              "    <tr>\n",
              "      <th>1</th>\n",
              "      <td>ID_002</td>\n",
              "      <td>0.0</td>\n",
              "    </tr>\n",
              "    <tr>\n",
              "      <th>2</th>\n",
              "      <td>ID_003</td>\n",
              "      <td>0.0</td>\n",
              "    </tr>\n",
              "    <tr>\n",
              "      <th>3</th>\n",
              "      <td>ID_004</td>\n",
              "      <td>0.0</td>\n",
              "    </tr>\n",
              "    <tr>\n",
              "      <th>4</th>\n",
              "      <td>ID_005</td>\n",
              "      <td>0.0</td>\n",
              "    </tr>\n",
              "    <tr>\n",
              "      <th>5</th>\n",
              "      <td>ID_006</td>\n",
              "      <td>0.0</td>\n",
              "    </tr>\n",
              "    <tr>\n",
              "      <th>6</th>\n",
              "      <td>ID_007</td>\n",
              "      <td>0.0</td>\n",
              "    </tr>\n",
              "    <tr>\n",
              "      <th>7</th>\n",
              "      <td>ID_008</td>\n",
              "      <td>0.0</td>\n",
              "    </tr>\n",
              "    <tr>\n",
              "      <th>8</th>\n",
              "      <td>ID_009</td>\n",
              "      <td>0.0</td>\n",
              "    </tr>\n",
              "    <tr>\n",
              "      <th>9</th>\n",
              "      <td>ID_010</td>\n",
              "      <td>0.0</td>\n",
              "    </tr>\n",
              "    <tr>\n",
              "      <th>10</th>\n",
              "      <td>ID_011</td>\n",
              "      <td>0.0</td>\n",
              "    </tr>\n",
              "    <tr>\n",
              "      <th>11</th>\n",
              "      <td>ID_012</td>\n",
              "      <td>0.0</td>\n",
              "    </tr>\n",
              "    <tr>\n",
              "      <th>12</th>\n",
              "      <td>ID_013</td>\n",
              "      <td>0.0</td>\n",
              "    </tr>\n",
              "    <tr>\n",
              "      <th>13</th>\n",
              "      <td>ID_014</td>\n",
              "      <td>0.0</td>\n",
              "    </tr>\n",
              "    <tr>\n",
              "      <th>14</th>\n",
              "      <td>ID_015</td>\n",
              "      <td>0.0</td>\n",
              "    </tr>\n",
              "    <tr>\n",
              "      <th>15</th>\n",
              "      <td>ID_016</td>\n",
              "      <td>0.0</td>\n",
              "    </tr>\n",
              "    <tr>\n",
              "      <th>16</th>\n",
              "      <td>ID_017</td>\n",
              "      <td>0.0</td>\n",
              "    </tr>\n",
              "    <tr>\n",
              "      <th>17</th>\n",
              "      <td>ID_018</td>\n",
              "      <td>0.0</td>\n",
              "    </tr>\n",
              "    <tr>\n",
              "      <th>18</th>\n",
              "      <td>ID_019</td>\n",
              "      <td>0.0</td>\n",
              "    </tr>\n",
              "    <tr>\n",
              "      <th>19</th>\n",
              "      <td>ID_020</td>\n",
              "      <td>1.0</td>\n",
              "    </tr>\n",
              "    <tr>\n",
              "      <th>20</th>\n",
              "      <td>ID_021</td>\n",
              "      <td>1.0</td>\n",
              "    </tr>\n",
              "    <tr>\n",
              "      <th>21</th>\n",
              "      <td>ID_022</td>\n",
              "      <td>1.0</td>\n",
              "    </tr>\n",
              "    <tr>\n",
              "      <th>22</th>\n",
              "      <td>ID_023</td>\n",
              "      <td>1.0</td>\n",
              "    </tr>\n",
              "    <tr>\n",
              "      <th>23</th>\n",
              "      <td>ID_024</td>\n",
              "      <td>1.0</td>\n",
              "    </tr>\n",
              "    <tr>\n",
              "      <th>24</th>\n",
              "      <td>ID_025</td>\n",
              "      <td>1.0</td>\n",
              "    </tr>\n",
              "    <tr>\n",
              "      <th>25</th>\n",
              "      <td>ID_026</td>\n",
              "      <td>1.0</td>\n",
              "    </tr>\n",
              "    <tr>\n",
              "      <th>26</th>\n",
              "      <td>ID_027</td>\n",
              "      <td>1.0</td>\n",
              "    </tr>\n",
              "    <tr>\n",
              "      <th>27</th>\n",
              "      <td>ID_028</td>\n",
              "      <td>1.0</td>\n",
              "    </tr>\n",
              "    <tr>\n",
              "      <th>28</th>\n",
              "      <td>ID_029</td>\n",
              "      <td>1.0</td>\n",
              "    </tr>\n",
              "    <tr>\n",
              "      <th>29</th>\n",
              "      <td>ID_030</td>\n",
              "      <td>1.0</td>\n",
              "    </tr>\n",
              "  </tbody>\n",
              "</table>\n",
              "</div>"
            ],
            "text/plain": [
              "        ID    y\n",
              "0   ID_001  0.0\n",
              "1   ID_002  0.0\n",
              "2   ID_003  0.0\n",
              "3   ID_004  0.0\n",
              "4   ID_005  0.0\n",
              "5   ID_006  0.0\n",
              "6   ID_007  0.0\n",
              "7   ID_008  0.0\n",
              "8   ID_009  0.0\n",
              "9   ID_010  0.0\n",
              "10  ID_011  0.0\n",
              "11  ID_012  0.0\n",
              "12  ID_013  0.0\n",
              "13  ID_014  0.0\n",
              "14  ID_015  0.0\n",
              "15  ID_016  0.0\n",
              "16  ID_017  0.0\n",
              "17  ID_018  0.0\n",
              "18  ID_019  0.0\n",
              "19  ID_020  1.0\n",
              "20  ID_021  1.0\n",
              "21  ID_022  1.0\n",
              "22  ID_023  1.0\n",
              "23  ID_024  1.0\n",
              "24  ID_025  1.0\n",
              "25  ID_026  1.0\n",
              "26  ID_027  1.0\n",
              "27  ID_028  1.0\n",
              "28  ID_029  1.0\n",
              "29  ID_030  1.0"
            ]
          },
          "execution_count": 10,
          "metadata": {},
          "output_type": "execute_result"
        }
      ],
      "source": [
        "predicted_new = chosen_model.predict(X_new) # predicted classes for unlabeled samples\n",
        "new_prediction = pd.DataFrame() # dataframe with predicted classes\n",
        "new_prediction['ID'] = new.ID # identifiers for unlabeled samples\n",
        "new_prediction['y'] = predicted_new # # predicted classes for unlabeled samples\n",
        "new_prediction.to_csv('hw2.q1.prediction.csv', index=False) # save as CSV file\n",
        "new_prediction # display results"
      ]
    },
    {
      "cell_type": "markdown",
      "metadata": {
        "id": "rqgje6qsv-vP"
      },
      "source": [
        "## Extract rules"
      ]
    },
    {
      "cell_type": "code",
      "execution_count": 11,
      "metadata": {
        "colab": {
          "base_uri": "https://localhost:8080/",
          "height": 807
        },
        "id": "F0sFgjOrZ3Dn",
        "outputId": "c42b7c01-2a11-47a8-967d-4d4449d528fd"
      },
      "outputs": [
        {
          "data": {
            "image/png": "[encoded data removed]",
            "text/plain": [
              "<Figure size 720x720 with 1 Axes>"
            ]
          },
          "metadata": {
            "needs_background": "light"
          },
          "output_type": "display_data"
        }
      ],
      "source": [
        "plt.figure(figsize=(10, 10)) # size of figure to be displayed\n",
        "\n",
        "plot_tree(chosen_model,\n",
        "          feature_names=features,\n",
        "          class_names=[f'{c}' for c in chosen_model.classes_],\n",
        "          filled=True, rounded=True, impurity=False) # plot tree\n",
        "\n",
        "plt.savefig(\"hw2.q1.decision_tree.png\") # save as PNG file\n",
        "plt.show() # show tree"
      ]
    },
    {
      "cell_type": "markdown",
      "metadata": {
        "id": "c5jVQqM9kaXs"
      },
      "source": [
        "You can confirm that only input features *x_4*, *x_12*, and *x_22* are relevant"
      ]
    },
    {
      "cell_type": "code",
      "execution_count": 12,
      "metadata": {
        "colab": {
          "base_uri": "https://localhost:8080/",
          "height": 384
        },
        "id": "cQUCoFwjbJZ3",
        "outputId": "c04e3f85-d51d-4574-d1c4-e9864bebd68d"
      },
      "outputs": [
        {
          "data": {
            "image/png": "[encoded data removed]",
            "text/plain": [
              "<Figure size 1152x288 with 1 Axes>"
            ]
          },
          "metadata": {
            "needs_background": "light"
          },
          "output_type": "display_data"
        }
      ],
      "source": [
        "plt.figure(figsize=(16, 4)) # size of figure to be displayed\n",
        "plt.bar(features, chosen_model.feature_importances_)\n",
        "plt.xticks(rotation = 60, fontsize=16)\n",
        "plt.title('Feature importances', fontsize=24)\n",
        "plt.show()"
      ]
    },
    {
      "cell_type": "code",
      "execution_count": 13,
      "metadata": {
        "colab": {
          "base_uri": "https://localhost:8080/"
        },
        "id": "JQpVHxvmbzJw",
        "outputId": "bf6eb846-bac1-4894-b195-4ead0f681ba9"
      },
      "outputs": [
        {
          "data": {
            "text/plain": [
              "{'ccp_alpha': 0.0,\n",
              " 'class_weight': None,\n",
              " 'criterion': 'gini',\n",
              " 'max_depth': None,\n",
              " 'max_features': None,\n",
              " 'max_leaf_nodes': 4,\n",
              " 'min_impurity_decrease': 0.0,\n",
              " 'min_impurity_split': None,\n",
              " 'min_samples_leaf': 1,\n",
              " 'min_samples_split': 2,\n",
              " 'min_weight_fraction_leaf': 0.0,\n",
              " 'random_state': None,\n",
              " 'splitter': 'best'}"
            ]
          },
          "execution_count": 13,
          "metadata": {},
          "output_type": "execute_result"
        }
      ],
      "source": [
        "chosen_model.get_params()"
      ]
    }
  ],
  "metadata": {
    "colab": {
      "provenance": [],
      "toc_visible": true
    },
    "kernelspec": {
      "display_name": "Python 3",
      "name": "python3"
    },
    "language_info": {
      "codemirror_mode": {
        "name": "ipython",
        "version": 3
      },
      "file_extension": ".py",
      "mimetype": "text/x-python",
      "name": "python",
      "nbconvert_exporter": "python",
      "pygments_lexer": "ipython3",
      "version": "3.9.7"
    }
  },
  "nbformat": 4,
  "nbformat_minor": 0
}
